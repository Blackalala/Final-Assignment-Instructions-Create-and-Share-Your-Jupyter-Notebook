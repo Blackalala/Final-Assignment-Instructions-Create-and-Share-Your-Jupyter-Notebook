{
 "cells": [
  {
   "cell_type": "markdown",
   "id": "8cfdad50",
   "metadata": {},
   "source": [
    "# Data Science Tools and Ecosystem"
   ]
  },
  {
   "cell_type": "markdown",
   "id": "2f35ca09",
   "metadata": {},
   "source": [
    "## In this notebook, we will be summarizing the commonly utilized Data Science Tools and Ecosystem."
   ]
  },
  {
   "cell_type": "markdown",
   "id": "4dff93e6",
   "metadata": {},
   "source": [
    "### Objectives:\n",
    "\n",
    "- list popular data science languages\n",
    "- list commonly used libararies in data science\n",
    "- list a few examples of open source data science tools used in the development environment\n",
    "- show examples of evaluating arithmetice expressions in python"
   ]
  },
  {
   "cell_type": "markdown",
   "id": "c3ed161e",
   "metadata": {},
   "source": [
    "### Some of the most popular languages used in data science are:\n",
    "\n",
    "1. Python\n",
    "2. R\n",
    "3. SQL\n",
    "4. Scala\n",
    "5. Java\n",
    "6. C++\n",
    "7. Julia\n",
    "8. Javascript\n",
    "9. PHP\n",
    "10. Visual Basic"
   ]
  },
  {
   "cell_type": "markdown",
   "id": "4d6f6f75",
   "metadata": {},
   "source": [
    "### Some of the commonly used libraries in data science include:\n",
    "\n",
    "1. NumPy\n",
    "2. Matplotlib\n",
    "3. Pandas\n",
    "4. Seaborn\n",
    "5. Scikit-learn\n",
    "6. Keras\n",
    "7. TensorFlow\n",
    "8. PyTorch\n",
    "9. Vegas\n",
    "10. Big DL\n",
    "11. ggplot\n",
    "12. stringr\n",
    "13. dplyr\n",
    "14. caret"
   ]
  },
  {
   "cell_type": "markdown",
   "id": "18f3d527",
   "metadata": {},
   "source": [
    "|Data Science Tools|\n",
    "|---|\n",
    "|MySQL|\n",
    "|Apache Airflow|\n",
    "|Model DB|"
   ]
  },
  {
   "cell_type": "markdown",
   "id": "ee85bd55",
   "metadata": {},
   "source": [
    "### Below are a few expressions the show how to evaluate arithmetic expressions in Python:"
   ]
  },
  {
   "cell_type": "code",
   "execution_count": 5,
   "id": "c378fc57",
   "metadata": {},
   "outputs": [
    {
     "data": {
      "text/plain": [
       "17"
      ]
     },
     "execution_count": 5,
     "metadata": {},
     "output_type": "execute_result"
    }
   ],
   "source": [
    "#This is a simple example showing multiplication then addition of integers\n",
    "\n",
    "(3*4)+5"
   ]
  },
  {
   "cell_type": "code",
   "execution_count": 6,
   "id": "25a8bfaa",
   "metadata": {},
   "outputs": [
    {
     "data": {
      "text/plain": [
       "3.3333333333333335"
      ]
     },
     "execution_count": 6,
     "metadata": {},
     "output_type": "execute_result"
    }
   ],
   "source": [
    "# This will convert 200 minutes to hours by diving by 60\n",
    "200/60"
   ]
  },
  {
   "cell_type": "markdown",
   "id": "afefa914",
   "metadata": {},
   "source": [
    "## Author\n",
    "Joshua Rodriguez"
   ]
  }
 ],
 "metadata": {
  "kernelspec": {
   "display_name": "Python 3 (ipykernel)",
   "language": "python",
   "name": "python3"
  },
  "language_info": {
   "codemirror_mode": {
    "name": "ipython",
    "version": 3
   },
   "file_extension": ".py",
   "mimetype": "text/x-python",
   "name": "python",
   "nbconvert_exporter": "python",
   "pygments_lexer": "ipython3",
   "version": "3.10.9"
  }
 },
 "nbformat": 4,
 "nbformat_minor": 5
}
